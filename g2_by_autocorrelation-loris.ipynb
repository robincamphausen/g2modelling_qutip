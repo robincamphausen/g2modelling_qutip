{
 "cells": [
  {
   "cell_type": "markdown",
   "metadata": {},
   "source": [
    "# Numeric Simulation of the g2 for a single emitter\n"
   ]
  },
  {
   "cell_type": "code",
   "execution_count": 10,
   "metadata": {},
   "outputs": [
    {
     "data": {
      "text/html": [
       "<style>.container { width:90% !important; }</style>"
      ],
      "text/plain": [
       "<IPython.core.display.HTML object>"
      ]
     },
     "metadata": {},
     "output_type": "display_data"
    }
   ],
   "source": [
    "import seaborn as sns\n",
    "import pandas as pd \n",
    "\n",
    "from IPython.core.interactiveshell import InteractiveShell\n",
    "InteractiveShell.ast_node_interactivity = \"all\"\n",
    "\n",
    "from IPython.core.display import display, HTML\n",
    "display(HTML(\"<style>.container { width:90% !important; }</style>\"))\n",
    "\n",
    "%matplotlib inline\n",
    "%config InlineBackend.figure_format = 'retina'\n",
    "\n",
    "import matplotlib \n",
    "matplotlib.rcParams.update({'font.size': 16})\n",
    "\n",
    "import matplotlib.pyplot as plt\n",
    "import numpy as np\n",
    "from scipy.interpolate import interp2d\n",
    "\n",
    "\n",
    "def emit_photons(n_pulses=1000000000, lifetime=1):\n",
    "    \n",
    "    time_bins = np.arange(0,12.5*n_pulses,12.5)\n",
    "\n",
    "    photons = np.random.exponential(scale=lifetime, size=n_pulses)\n",
    "    timestamps = photons + time_bins\n",
    "    \n",
    "    return timestamps\n",
    "    \n",
    "    \n",
    "def hbt_histogram_from_time(lifetime=1):\n",
    "\n",
    "    timestamps = emit_photons(lifetime=lifetime)\n",
    "    \n",
    "    timestamps = loss_function(timestamps, 0.1)\n",
    "\n",
    "    # Simulate splitting (randomly)\n",
    "    beam_splitter = np.random.binomial(1, 0.5, size=timestamps.size).astype(bool)\n",
    "    a = timestamps[beam_splitter]\n",
    "    b = timestamps[~beam_splitter]\n",
    "\n",
    "    A = np.ones([a.size,2])\n",
    "    A[:,0] = a\n",
    "    ch1 = pd.DataFrame(A, columns=['times', 'id'])\n",
    "\n",
    "    B = np.zeros([b.size,2])\n",
    "    B[:,0] = b\n",
    "    ch2 = pd.DataFrame(B, columns=['times', 'id'])\n",
    "\n",
    "    diff = pd.concat([ch1,ch2]).sort_values('times').diff().dropna()\n",
    "    diff = diff[~(diff['id']==0)]\n",
    "    differences = diff['times'].multiply(diff['id'])    \n",
    "    \n",
    "    return differences\n",
    "\n",
    "\n",
    "def loss_function(timestamps, transmission):\n",
    "    \n",
    "    # Simulate optical loss\n",
    "    transmitted = np.random.binomial(1, transmission, size=timestamps.size).astype(bool)\n",
    "    surviving_photons = timestamps[transmitted]\n",
    "    \n",
    "    return surviving_photons\n",
    "\n",
    "def normalized_g2(lifetime, bw=None):\n",
    "    \n",
    "    x_norm = np.linspace(-60,60,120)\n",
    "\n",
    "    diffs = hbt_histogram_from_time(lifetime=lifetime)\n",
    "    \n",
    "    fig, ax = plt.subplots(1)\n",
    "    sns.kdeplot(diffs, shade=True, ax=ax, bw=bw)\n",
    "\n",
    "    # Extract y values\n",
    "    y = ax.get_lines()[0].get_ydata()\n",
    "    y = y/y.max()\n",
    "    x = ax.get_lines()[0].get_xdata()\n",
    "\n",
    "    y_norm = np.interp(x_norm, x, y)\n",
    "        \n",
    "    output = pd.Series(data=y_norm, index=x_norm, name=lifetime).to_frame()\n",
    "    plt.close(\"all\")\n",
    "    \n",
    "    return output\n",
    "\n",
    "\n",
    "def find_best_tau(lifetimes, target_g20=0.5, bw=None):\n",
    "    \n",
    "    simulated_g20 = np.zeros(len(lifetimes))\n",
    "        \n",
    "    for i, lt in enumerate(lifetimes):\n",
    "\n",
    "        g2 = normalized_g2(lt, bw=bw)\n",
    "        g2.reset_index(inplace=True)\n",
    "        simulated_g20[i] = g2.iloc[(g2['index'] - 0).abs().argsort()[0],1]\n",
    "        \n",
    "    # Find tau resulting in a g2o\n",
    "    idx = np.abs(simulated_g20 - target_g20).argmin()\n",
    "    \n",
    "    closest_g2 = simulated_g20[idx]\n",
    "    closest_lifetime = lifetimes[idx]\n",
    "    \n",
    "    return closest_lifetime "
   ]
  },
  {
   "cell_type": "markdown",
   "metadata": {},
   "source": [
    "## The time of a photon-emisison follows a negative exponential curve\n"
   ]
  },
  {
   "cell_type": "code",
   "execution_count": 11,
   "metadata": {
    "scrolled": true
   },
   "outputs": [
    {
     "data": {
      "text/plain": [
       "Text(0.5,1,'Time Series of the emitted photons')"
      ]
     },
     "execution_count": 11,
     "metadata": {},
     "output_type": "execute_result"
    },
    {
     "data": {
      "image/png": "[encoded data removed]",
      "text/plain": [
       "<Figure size 1080x216 with 1 Axes>"
      ]
     },
     "metadata": {
      "image/png": {
       "height": 220,
       "width": 895
      }
     },
     "output_type": "display_data"
    }
   ],
   "source": [
    "lifetime=2\n",
    "\n",
    "delayRange = 200\n",
    "numPulses = int(np.floor(delayRange/12.5)+1)\n",
    "pulses = np.linspace(0,200, numPulses)\n",
    "\n",
    "photons = np.random.exponential(scale=lifetime, size=numPulses)\n",
    "timestamps = np.around(photons,2) + np.around(pulses,2) \n",
    "\n",
    "# timestamps\n",
    "fig, ax = plt.subplots(1, figsize=[15,3])\n",
    "_ = ax.scatter(timestamps, np.ones(photons.shape[0]))\n",
    "ax.set_title(\"Time Series of the emitted photons\")\n"
   ]
  },
  {
   "cell_type": "markdown",
   "metadata": {},
   "source": [
    "## Find the best lifetime given an observed value of the g2 in tau=0\n"
   ]
  },
  {
   "cell_type": "code",
   "execution_count": 12,
   "metadata": {
    "scrolled": false
   },
   "outputs": [
    {
     "ename": "MemoryError",
     "evalue": "",
     "output_type": "error",
     "traceback": [
      "\u001b[1;31m---------------------------------------------------------------------------\u001b[0m",
      "\u001b[1;31mMemoryError\u001b[0m                               Traceback (most recent call last)",
      "\u001b[1;32m<ipython-input-12-1df97aaa1d78>\u001b[0m in \u001b[0;36m<module>\u001b[1;34m()\u001b[0m\n\u001b[0;32m      1\u001b[0m \u001b[0mlifetimes\u001b[0m \u001b[1;33m=\u001b[0m \u001b[0mnp\u001b[0m\u001b[1;33m.\u001b[0m\u001b[0mlinspace\u001b[0m\u001b[1;33m(\u001b[0m\u001b[1;36m1\u001b[0m\u001b[1;33m,\u001b[0m \u001b[1;36m10\u001b[0m\u001b[1;33m,\u001b[0m \u001b[1;36m20\u001b[0m\u001b[1;33m)\u001b[0m\u001b[1;33m\u001b[0m\u001b[0m\n\u001b[1;32m----> 2\u001b[1;33m \u001b[0mbest_lifetime\u001b[0m \u001b[1;33m=\u001b[0m \u001b[0mfind_best_tau\u001b[0m\u001b[1;33m(\u001b[0m\u001b[0mlifetimes\u001b[0m\u001b[1;33m,\u001b[0m \u001b[0mtarget_g20\u001b[0m\u001b[1;33m=\u001b[0m\u001b[1;36m0.4\u001b[0m\u001b[1;33m,\u001b[0m \u001b[0mbw\u001b[0m\u001b[1;33m=\u001b[0m\u001b[1;36m1\u001b[0m\u001b[1;33m)\u001b[0m\u001b[1;33m\u001b[0m\u001b[0m\n\u001b[0m\u001b[0;32m      3\u001b[0m \u001b[0mbest_lifetime\u001b[0m\u001b[1;33m\u001b[0m\u001b[0m\n\u001b[0;32m      4\u001b[0m \u001b[1;33m\u001b[0m\u001b[0m\n\u001b[0;32m      5\u001b[0m \u001b[0mg2\u001b[0m \u001b[1;33m=\u001b[0m \u001b[0mnormalized_g2\u001b[0m\u001b[1;33m(\u001b[0m\u001b[0mbest_lifetime\u001b[0m\u001b[1;33m,\u001b[0m \u001b[0mbw\u001b[0m\u001b[1;33m=\u001b[0m\u001b[1;36m1\u001b[0m\u001b[1;33m)\u001b[0m\u001b[1;33m\u001b[0m\u001b[0m\n",
      "\u001b[1;32m<ipython-input-10-06f9f4d0857d>\u001b[0m in \u001b[0;36mfind_best_tau\u001b[1;34m(lifetimes, target_g20, bw)\u001b[0m\n\u001b[0;32m     91\u001b[0m     \u001b[1;32mfor\u001b[0m \u001b[0mi\u001b[0m\u001b[1;33m,\u001b[0m \u001b[0mlt\u001b[0m \u001b[1;32min\u001b[0m \u001b[0menumerate\u001b[0m\u001b[1;33m(\u001b[0m\u001b[0mlifetimes\u001b[0m\u001b[1;33m)\u001b[0m\u001b[1;33m:\u001b[0m\u001b[1;33m\u001b[0m\u001b[0m\n\u001b[0;32m     92\u001b[0m \u001b[1;33m\u001b[0m\u001b[0m\n\u001b[1;32m---> 93\u001b[1;33m         \u001b[0mg2\u001b[0m \u001b[1;33m=\u001b[0m \u001b[0mnormalized_g2\u001b[0m\u001b[1;33m(\u001b[0m\u001b[0mlt\u001b[0m\u001b[1;33m,\u001b[0m \u001b[0mbw\u001b[0m\u001b[1;33m=\u001b[0m\u001b[0mbw\u001b[0m\u001b[1;33m)\u001b[0m\u001b[1;33m\u001b[0m\u001b[0m\n\u001b[0m\u001b[0;32m     94\u001b[0m         \u001b[0mg2\u001b[0m\u001b[1;33m.\u001b[0m\u001b[0mreset_index\u001b[0m\u001b[1;33m(\u001b[0m\u001b[0minplace\u001b[0m\u001b[1;33m=\u001b[0m\u001b[1;32mTrue\u001b[0m\u001b[1;33m)\u001b[0m\u001b[1;33m\u001b[0m\u001b[0m\n\u001b[0;32m     95\u001b[0m         \u001b[0msimulated_g20\u001b[0m\u001b[1;33m[\u001b[0m\u001b[0mi\u001b[0m\u001b[1;33m]\u001b[0m \u001b[1;33m=\u001b[0m \u001b[0mg2\u001b[0m\u001b[1;33m.\u001b[0m\u001b[0miloc\u001b[0m\u001b[1;33m[\u001b[0m\u001b[1;33m(\u001b[0m\u001b[0mg2\u001b[0m\u001b[1;33m[\u001b[0m\u001b[1;34m'index'\u001b[0m\u001b[1;33m]\u001b[0m \u001b[1;33m-\u001b[0m \u001b[1;36m0\u001b[0m\u001b[1;33m)\u001b[0m\u001b[1;33m.\u001b[0m\u001b[0mabs\u001b[0m\u001b[1;33m(\u001b[0m\u001b[1;33m)\u001b[0m\u001b[1;33m.\u001b[0m\u001b[0margsort\u001b[0m\u001b[1;33m(\u001b[0m\u001b[1;33m)\u001b[0m\u001b[1;33m[\u001b[0m\u001b[1;36m0\u001b[0m\u001b[1;33m]\u001b[0m\u001b[1;33m,\u001b[0m\u001b[1;36m1\u001b[0m\u001b[1;33m]\u001b[0m\u001b[1;33m\u001b[0m\u001b[0m\n",
      "\u001b[1;32m<ipython-input-10-06f9f4d0857d>\u001b[0m in \u001b[0;36mnormalized_g2\u001b[1;34m(lifetime, bw)\u001b[0m\n\u001b[0;32m     67\u001b[0m     \u001b[0mx_norm\u001b[0m \u001b[1;33m=\u001b[0m \u001b[0mnp\u001b[0m\u001b[1;33m.\u001b[0m\u001b[0mlinspace\u001b[0m\u001b[1;33m(\u001b[0m\u001b[1;33m-\u001b[0m\u001b[1;36m60\u001b[0m\u001b[1;33m,\u001b[0m\u001b[1;36m60\u001b[0m\u001b[1;33m,\u001b[0m\u001b[1;36m120\u001b[0m\u001b[1;33m)\u001b[0m\u001b[1;33m\u001b[0m\u001b[0m\n\u001b[0;32m     68\u001b[0m \u001b[1;33m\u001b[0m\u001b[0m\n\u001b[1;32m---> 69\u001b[1;33m     \u001b[0mdiffs\u001b[0m \u001b[1;33m=\u001b[0m \u001b[0mhbt_histogram_from_time\u001b[0m\u001b[1;33m(\u001b[0m\u001b[0mlifetime\u001b[0m\u001b[1;33m=\u001b[0m\u001b[0mlifetime\u001b[0m\u001b[1;33m)\u001b[0m\u001b[1;33m\u001b[0m\u001b[0m\n\u001b[0m\u001b[0;32m     70\u001b[0m \u001b[1;33m\u001b[0m\u001b[0m\n\u001b[0;32m     71\u001b[0m     \u001b[0mfig\u001b[0m\u001b[1;33m,\u001b[0m \u001b[0max\u001b[0m \u001b[1;33m=\u001b[0m \u001b[0mplt\u001b[0m\u001b[1;33m.\u001b[0m\u001b[0msubplots\u001b[0m\u001b[1;33m(\u001b[0m\u001b[1;36m1\u001b[0m\u001b[1;33m)\u001b[0m\u001b[1;33m\u001b[0m\u001b[0m\n",
      "\u001b[1;32m<ipython-input-10-06f9f4d0857d>\u001b[0m in \u001b[0;36mhbt_histogram_from_time\u001b[1;34m(lifetime)\u001b[0m\n\u001b[0;32m     31\u001b[0m \u001b[1;32mdef\u001b[0m \u001b[0mhbt_histogram_from_time\u001b[0m\u001b[1;33m(\u001b[0m\u001b[0mlifetime\u001b[0m\u001b[1;33m=\u001b[0m\u001b[1;36m1\u001b[0m\u001b[1;33m)\u001b[0m\u001b[1;33m:\u001b[0m\u001b[1;33m\u001b[0m\u001b[0m\n\u001b[0;32m     32\u001b[0m \u001b[1;33m\u001b[0m\u001b[0m\n\u001b[1;32m---> 33\u001b[1;33m     \u001b[0mtimestamps\u001b[0m \u001b[1;33m=\u001b[0m \u001b[0memit_photons\u001b[0m\u001b[1;33m(\u001b[0m\u001b[0mlifetime\u001b[0m\u001b[1;33m=\u001b[0m\u001b[0mlifetime\u001b[0m\u001b[1;33m)\u001b[0m\u001b[1;33m\u001b[0m\u001b[0m\n\u001b[0m\u001b[0;32m     34\u001b[0m \u001b[1;33m\u001b[0m\u001b[0m\n\u001b[0;32m     35\u001b[0m     \u001b[0mtimestamps\u001b[0m \u001b[1;33m=\u001b[0m \u001b[0mloss_function\u001b[0m\u001b[1;33m(\u001b[0m\u001b[0mtimestamps\u001b[0m\u001b[1;33m,\u001b[0m \u001b[1;36m0.1\u001b[0m\u001b[1;33m)\u001b[0m\u001b[1;33m\u001b[0m\u001b[0m\n",
      "\u001b[1;32m<ipython-input-10-06f9f4d0857d>\u001b[0m in \u001b[0;36memit_photons\u001b[1;34m(n_pulses, lifetime)\u001b[0m\n\u001b[0;32m     23\u001b[0m     \u001b[0mtime_bins\u001b[0m \u001b[1;33m=\u001b[0m \u001b[0mnp\u001b[0m\u001b[1;33m.\u001b[0m\u001b[0marange\u001b[0m\u001b[1;33m(\u001b[0m\u001b[1;36m0\u001b[0m\u001b[1;33m,\u001b[0m\u001b[1;36m12.5\u001b[0m\u001b[1;33m*\u001b[0m\u001b[0mn_pulses\u001b[0m\u001b[1;33m,\u001b[0m\u001b[1;36m12.5\u001b[0m\u001b[1;33m)\u001b[0m\u001b[1;33m\u001b[0m\u001b[0m\n\u001b[0;32m     24\u001b[0m \u001b[1;33m\u001b[0m\u001b[0m\n\u001b[1;32m---> 25\u001b[1;33m     \u001b[0mphotons\u001b[0m \u001b[1;33m=\u001b[0m \u001b[0mnp\u001b[0m\u001b[1;33m.\u001b[0m\u001b[0mrandom\u001b[0m\u001b[1;33m.\u001b[0m\u001b[0mexponential\u001b[0m\u001b[1;33m(\u001b[0m\u001b[0mscale\u001b[0m\u001b[1;33m=\u001b[0m\u001b[0mlifetime\u001b[0m\u001b[1;33m,\u001b[0m \u001b[0msize\u001b[0m\u001b[1;33m=\u001b[0m\u001b[0mn_pulses\u001b[0m\u001b[1;33m)\u001b[0m\u001b[1;33m\u001b[0m\u001b[0m\n\u001b[0m\u001b[0;32m     26\u001b[0m     \u001b[0mtimestamps\u001b[0m \u001b[1;33m=\u001b[0m \u001b[0mphotons\u001b[0m \u001b[1;33m+\u001b[0m \u001b[0mtime_bins\u001b[0m\u001b[1;33m\u001b[0m\u001b[0m\n\u001b[0;32m     27\u001b[0m \u001b[1;33m\u001b[0m\u001b[0m\n",
      "\u001b[1;32mmtrand.pyx\u001b[0m in \u001b[0;36mmtrand.RandomState.exponential\u001b[1;34m()\u001b[0m\n",
      "\u001b[1;32mmtrand.pyx\u001b[0m in \u001b[0;36mmtrand.cont1_array_sc\u001b[1;34m()\u001b[0m\n",
      "\u001b[1;31mMemoryError\u001b[0m: "
     ]
    }
   ],
   "source": [
    "lifetimes = np.linspace(1, 10, 20)\n",
    "best_lifetime = find_best_tau(lifetimes, target_g20=0.4, bw=1)\n",
    "best_lifetime\n",
    "\n",
    "g2 = normalized_g2(best_lifetime, bw=1)\n",
    "\n",
    "fig, ax = plt.subplots(1, figsize=[15,8])\n",
    "g2.plot(ax=ax, legend=False)\n",
    "\n",
    "_ = ax.set_title(f\"g2 for tau best fit ({np.around(best_lifetime, 2)} ns)\")\n",
    "_ = ax.set_xlabel(\"Relative Delay ns\")\n",
    "_ = ax.set_ylabel(\"Normalized g2\")\n"
   ]
  },
  {
   "cell_type": "markdown",
   "metadata": {},
   "source": [
    "## See how the g2 would change as a function of lifetime\n"
   ]
  },
  {
   "cell_type": "code",
   "execution_count": null,
   "metadata": {},
   "outputs": [],
   "source": [
    "df_list = []\n",
    "for i, lt in enumerate([1, 3, 4, 10]):\n",
    "    \n",
    "    g2 = normalized_g2(lt, bw=1)\n",
    "    df_list.append(g2)\n",
    "                 \n",
    "out = pd.concat(df_list, axis=1)\n",
    "\n",
    "\n",
    "fig, ax = plt.subplots(1,  figsize=[15,8])\n",
    "out[[10, 4, 3, 1]].plot.area(alpha=0.2, ax=ax, stacked=False)\n",
    "_ = ax.set_title(f\"Simulated g2 vs lifetime\")\n",
    "_ = ax.set_xlabel(\"Relative Delay ns\")\n",
    "_ = ax.set_ylabel(\"Normalized g2\")\n"
   ]
  },
  {
   "cell_type": "code",
   "execution_count": null,
   "metadata": {
    "collapsed": true
   },
   "outputs": [],
   "source": []
  },
  {
   "cell_type": "code",
   "execution_count": null,
   "metadata": {
    "collapsed": true
   },
   "outputs": [],
   "source": []
  },
  {
   "cell_type": "code",
   "execution_count": null,
   "metadata": {
    "collapsed": true
   },
   "outputs": [],
   "source": []
  },
  {
   "cell_type": "code",
   "execution_count": null,
   "metadata": {
    "collapsed": true
   },
   "outputs": [],
   "source": []
  }
 ],
 "metadata": {
  "anaconda-cloud": {},
  "kernelspec": {
   "display_name": "Python 3",
   "language": "python",
   "name": "python3"
  },
  "language_info": {
   "codemirror_mode": {
    "name": "ipython",
    "version": 3
   },
   "file_extension": ".py",
   "mimetype": "text/x-python",
   "name": "python",
   "nbconvert_exporter": "python",
   "pygments_lexer": "ipython3",
   "version": "3.6.3"
  },
  "latex_envs": {
   "LaTeX_envs_menu_present": true,
   "autocomplete": true,
   "bibliofile": "biblio.bib",
   "cite_by": "apalike",
   "current_citInitial": 1,
   "eqLabelWithNumbers": true,
   "eqNumInitial": 1,
   "hotkeys": {
    "equation": "Ctrl-E",
    "itemize": "Ctrl-I"
   },
   "labels_anchors": false,
   "latex_user_defs": false,
   "report_style_numbering": false,
   "user_envs_cfg": false
  },
  "varInspector": {
   "cols": {
    "lenName": 16,
    "lenType": 16,
    "lenVar": 40
   },
   "kernels_config": {
    "python": {
     "delete_cmd_postfix": "",
     "delete_cmd_prefix": "del ",
     "library": "var_list.py",
     "varRefreshCmd": "print(var_dic_list())"
    },
    "r": {
     "delete_cmd_postfix": ") ",
     "delete_cmd_prefix": "rm(",
     "library": "var_list.r",
     "varRefreshCmd": "cat(var_dic_list()) "
    }
   },
   "types_to_exclude": [
    "module",
    "function",
    "builtin_function_or_method",
    "instance",
    "_Feature"
   ],
   "window_display": false
  }
 },
 "nbformat": 4,
 "nbformat_minor": 2
}
