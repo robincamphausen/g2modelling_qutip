{
 "cells": [
  {
   "cell_type": "code",
   "execution_count": 16,
   "metadata": {
    "scrolled": true
   },
   "outputs": [
    {
     "data": {
      "text/html": [
       "<style>.container { width:90% !important; }</style>"
      ],
      "text/plain": [
       "<IPython.core.display.HTML object>"
      ]
     },
     "metadata": {},
     "output_type": "display_data"
    }
   ],
   "source": [
    "import seaborn as sns\n",
    "import pandas as pd \n",
    "\n",
    "from IPython.core.interactiveshell import InteractiveShell\n",
    "InteractiveShell.ast_node_interactivity = \"all\"\n",
    "\n",
    "from IPython.core.display import display, HTML\n",
    "display(HTML(\"<style>.container { width:90% !important; }</style>\"))\n",
    "\n",
    "%matplotlib inline\n",
    "%config InlineBackend.figure_format = 'retina'\n",
    "\n",
    "import matplotlib \n",
    "matplotlib.rcParams.update({'font.size': 16})\n",
    "\n",
    "import matplotlib.pyplot as plt\n",
    "import numpy as np\n",
    "from scipy.interpolate import interp2d\n",
    "\n",
    "\n",
    "def emit_photons(n_pulses=100000000, lifetime=1):\n",
    "    \n",
    "    time_bins = np.arange(0,12.5*n_pulses,12.5)\n",
    "\n",
    "    photons = np.random.exponential(scale=lifetime, size=n_pulses)\n",
    "    timestamps = photons + time_bins\n",
    "    \n",
    "    return timestamps\n",
    "    \n",
    "    \n",
    "def hbt_histogram_from_time(lifetime=1):\n",
    "\n",
    "    timestamps = emit_photons(lifetime=lifetime)\n",
    "    \n",
    "    timestamps = loss_function(timestamps, 0.5)\n",
    "\n",
    "    # Simulate splitting (randomly)\n",
    "    beam_splitter = np.random.binomial(1, 0.5, size=timestamps.size).astype(bool)\n",
    "    a = timestamps[beam_splitter]\n",
    "    b = timestamps[~beam_splitter]\n",
    "\n",
    "    A = np.ones([a.size,2])\n",
    "    A[:,0] = a\n",
    "    ch1 = pd.DataFrame(A, columns=['times', 'id'])\n",
    "\n",
    "    B = np.zeros([b.size,2])\n",
    "    B[:,0] = b\n",
    "    ch2 = pd.DataFrame(B, columns=['times', 'id'])\n",
    "\n",
    "    diff = pd.concat([ch1,ch2]).sort_values('times').diff().dropna()\n",
    "    diff = diff[~(diff['id']==0)]\n",
    "    differences = diff['times'].multiply(diff['id'])    \n",
    "    \n",
    "    return differences\n",
    "\n",
    "\n",
    "def loss_function(timestamps, transmission):\n",
    "    \n",
    "    # Simulate optical loss\n",
    "    transmitted = np.random.binomial(1, transmission, size=timestamps.size).astype(bool)\n",
    "    surviving_photons = timestamps[transmitted]\n",
    "    \n",
    "    return surviving_photons\n",
    "\n",
    "def normalized_g2(lifetime, bw):\n",
    "    \n",
    "    x_norm = np.linspace(-60,60,120)\n",
    "\n",
    "    diffs = hbt_histogram_from_time(lifetime=lifetime)\n",
    "    \n",
    "    fig, ax = plt.subplots(1)\n",
    "    sns.kdeplot(diffs, shade=True, ax=ax, bw=bw)\n",
    "\n",
    "    # Extract y values\n",
    "    y = ax.get_lines()[0].get_ydata()\n",
    "    y = y/y.max()\n",
    "    x = ax.get_lines()[0].get_xdata()\n",
    "\n",
    "    y_norm = np.interp(x_norm, x, y)\n",
    "        \n",
    "    output = pd.Series(data=y_norm, index=x_norm, name=lifetime).to_frame()\n",
    "    plt.close(\"all\")\n",
    "    \n",
    "    return output\n",
    "\n",
    "\n",
    "def find_best_tau(lifetimes, target_g20=0.5, bw=None):\n",
    "    \n",
    "    simulated_g20 = np.zeros(len(lifetimes))\n",
    "        \n",
    "    for i, lt in enumerate(lifetimes):\n",
    "\n",
    "        g2 = normalized_g2(lt, bw=bw)\n",
    "        g2.reset_index(inplace=True)\n",
    "        simulated_g20[i] = g2.iloc[(g2['index'] - 0).abs().argsort()[0],1]\n",
    "        \n",
    "    # Find tau resulting in a g2o\n",
    "    idx = np.abs(simulated_g20 - target_g20).argmin()\n",
    "    \n",
    "    closest_g2 = simulated_g20[idx]\n",
    "    closest_lifetime = lifetimes[idx]\n",
    "    \n",
    "    return closest_lifetime "
   ]
  },
  {
   "cell_type": "code",
   "execution_count": 17,
   "metadata": {},
   "outputs": [
    {
     "ename": "MemoryError",
     "evalue": "",
     "output_type": "error",
     "traceback": [
      "\u001b[1;31m---------------------------------------------------------------------------\u001b[0m",
      "\u001b[1;31mMemoryError\u001b[0m                               Traceback (most recent call last)",
      "\u001b[1;32m<ipython-input-17-7e1229a0f597>\u001b[0m in \u001b[0;36m<module>\u001b[1;34m()\u001b[0m\n\u001b[1;32m----> 1\u001b[1;33m \u001b[0mg2\u001b[0m \u001b[1;33m=\u001b[0m \u001b[0mnormalized_g2\u001b[0m\u001b[1;33m(\u001b[0m\u001b[1;36m2\u001b[0m\u001b[1;33m,\u001b[0m \u001b[0mbw\u001b[0m\u001b[1;33m=\u001b[0m\u001b[1;36m0.1\u001b[0m\u001b[1;33m)\u001b[0m\u001b[1;33m\u001b[0m\u001b[0m\n\u001b[0m\u001b[0;32m      2\u001b[0m \u001b[1;33m\u001b[0m\u001b[0m\n\u001b[0;32m      3\u001b[0m \u001b[0mfig\u001b[0m\u001b[1;33m,\u001b[0m \u001b[0max\u001b[0m \u001b[1;33m=\u001b[0m \u001b[0mplt\u001b[0m\u001b[1;33m.\u001b[0m\u001b[0msubplots\u001b[0m\u001b[1;33m(\u001b[0m\u001b[1;36m1\u001b[0m\u001b[1;33m,\u001b[0m \u001b[0mfigsize\u001b[0m\u001b[1;33m=\u001b[0m\u001b[1;33m[\u001b[0m\u001b[1;36m15\u001b[0m\u001b[1;33m,\u001b[0m\u001b[1;36m8\u001b[0m\u001b[1;33m]\u001b[0m\u001b[1;33m)\u001b[0m\u001b[1;33m\u001b[0m\u001b[0m\n\u001b[0;32m      4\u001b[0m \u001b[0mg2\u001b[0m\u001b[1;33m.\u001b[0m\u001b[0mplot\u001b[0m\u001b[1;33m(\u001b[0m\u001b[0max\u001b[0m\u001b[1;33m=\u001b[0m\u001b[0max\u001b[0m\u001b[1;33m,\u001b[0m \u001b[0mlegend\u001b[0m\u001b[1;33m=\u001b[0m\u001b[1;32mFalse\u001b[0m\u001b[1;33m)\u001b[0m\u001b[1;33m\u001b[0m\u001b[0m\n",
      "\u001b[1;32m<ipython-input-16-b701a1397170>\u001b[0m in \u001b[0;36mnormalized_g2\u001b[1;34m(lifetime, bw)\u001b[0m\n\u001b[0;32m     67\u001b[0m     \u001b[0mx_norm\u001b[0m \u001b[1;33m=\u001b[0m \u001b[0mnp\u001b[0m\u001b[1;33m.\u001b[0m\u001b[0mlinspace\u001b[0m\u001b[1;33m(\u001b[0m\u001b[1;33m-\u001b[0m\u001b[1;36m60\u001b[0m\u001b[1;33m,\u001b[0m\u001b[1;36m60\u001b[0m\u001b[1;33m,\u001b[0m\u001b[1;36m120\u001b[0m\u001b[1;33m)\u001b[0m\u001b[1;33m\u001b[0m\u001b[0m\n\u001b[0;32m     68\u001b[0m \u001b[1;33m\u001b[0m\u001b[0m\n\u001b[1;32m---> 69\u001b[1;33m     \u001b[0mdiffs\u001b[0m \u001b[1;33m=\u001b[0m \u001b[0mhbt_histogram_from_time\u001b[0m\u001b[1;33m(\u001b[0m\u001b[0mlifetime\u001b[0m\u001b[1;33m=\u001b[0m\u001b[0mlifetime\u001b[0m\u001b[1;33m)\u001b[0m\u001b[1;33m\u001b[0m\u001b[0m\n\u001b[0m\u001b[0;32m     70\u001b[0m \u001b[1;33m\u001b[0m\u001b[0m\n\u001b[0;32m     71\u001b[0m     \u001b[0mfig\u001b[0m\u001b[1;33m,\u001b[0m \u001b[0max\u001b[0m \u001b[1;33m=\u001b[0m \u001b[0mplt\u001b[0m\u001b[1;33m.\u001b[0m\u001b[0msubplots\u001b[0m\u001b[1;33m(\u001b[0m\u001b[1;36m1\u001b[0m\u001b[1;33m)\u001b[0m\u001b[1;33m\u001b[0m\u001b[0m\n",
      "\u001b[1;32m<ipython-input-16-b701a1397170>\u001b[0m in \u001b[0;36mhbt_histogram_from_time\u001b[1;34m(lifetime)\u001b[0m\n\u001b[0;32m     31\u001b[0m \u001b[1;32mdef\u001b[0m \u001b[0mhbt_histogram_from_time\u001b[0m\u001b[1;33m(\u001b[0m\u001b[0mlifetime\u001b[0m\u001b[1;33m=\u001b[0m\u001b[1;36m1\u001b[0m\u001b[1;33m)\u001b[0m\u001b[1;33m:\u001b[0m\u001b[1;33m\u001b[0m\u001b[0m\n\u001b[0;32m     32\u001b[0m \u001b[1;33m\u001b[0m\u001b[0m\n\u001b[1;32m---> 33\u001b[1;33m     \u001b[0mtimestamps\u001b[0m \u001b[1;33m=\u001b[0m \u001b[0memit_photons\u001b[0m\u001b[1;33m(\u001b[0m\u001b[0mlifetime\u001b[0m\u001b[1;33m=\u001b[0m\u001b[0mlifetime\u001b[0m\u001b[1;33m)\u001b[0m\u001b[1;33m\u001b[0m\u001b[0m\n\u001b[0m\u001b[0;32m     34\u001b[0m \u001b[1;33m\u001b[0m\u001b[0m\n\u001b[0;32m     35\u001b[0m     \u001b[0mtimestamps\u001b[0m \u001b[1;33m=\u001b[0m \u001b[0mloss_function\u001b[0m\u001b[1;33m(\u001b[0m\u001b[0mtimestamps\u001b[0m\u001b[1;33m,\u001b[0m \u001b[1;36m0.5\u001b[0m\u001b[1;33m)\u001b[0m\u001b[1;33m\u001b[0m\u001b[0m\n",
      "\u001b[1;32m<ipython-input-16-b701a1397170>\u001b[0m in \u001b[0;36memit_photons\u001b[1;34m(n_pulses, lifetime)\u001b[0m\n\u001b[0;32m     23\u001b[0m     \u001b[0mtime_bins\u001b[0m \u001b[1;33m=\u001b[0m \u001b[0mnp\u001b[0m\u001b[1;33m.\u001b[0m\u001b[0marange\u001b[0m\u001b[1;33m(\u001b[0m\u001b[1;36m0\u001b[0m\u001b[1;33m,\u001b[0m\u001b[1;36m12.5\u001b[0m\u001b[1;33m*\u001b[0m\u001b[0mn_pulses\u001b[0m\u001b[1;33m,\u001b[0m\u001b[1;36m12.5\u001b[0m\u001b[1;33m)\u001b[0m\u001b[1;33m\u001b[0m\u001b[0m\n\u001b[0;32m     24\u001b[0m \u001b[1;33m\u001b[0m\u001b[0m\n\u001b[1;32m---> 25\u001b[1;33m     \u001b[0mphotons\u001b[0m \u001b[1;33m=\u001b[0m \u001b[0mnp\u001b[0m\u001b[1;33m.\u001b[0m\u001b[0mrandom\u001b[0m\u001b[1;33m.\u001b[0m\u001b[0mexponential\u001b[0m\u001b[1;33m(\u001b[0m\u001b[0mscale\u001b[0m\u001b[1;33m=\u001b[0m\u001b[0mlifetime\u001b[0m\u001b[1;33m,\u001b[0m \u001b[0msize\u001b[0m\u001b[1;33m=\u001b[0m\u001b[0mn_pulses\u001b[0m\u001b[1;33m)\u001b[0m\u001b[1;33m\u001b[0m\u001b[0m\n\u001b[0m\u001b[0;32m     26\u001b[0m     \u001b[0mtimestamps\u001b[0m \u001b[1;33m=\u001b[0m \u001b[0mphotons\u001b[0m \u001b[1;33m+\u001b[0m \u001b[0mtime_bins\u001b[0m\u001b[1;33m\u001b[0m\u001b[0m\n\u001b[0;32m     27\u001b[0m \u001b[1;33m\u001b[0m\u001b[0m\n",
      "\u001b[1;32mmtrand.pyx\u001b[0m in \u001b[0;36mmtrand.RandomState.exponential\u001b[1;34m()\u001b[0m\n",
      "\u001b[1;32mmtrand.pyx\u001b[0m in \u001b[0;36mmtrand.cont1_array_sc\u001b[1;34m()\u001b[0m\n",
      "\u001b[1;31mMemoryError\u001b[0m: "
     ]
    }
   ],
   "source": [
    "g2 = normalized_g2(2, bw=0.1)\n",
    "\n",
    "fig, ax = plt.subplots(1, figsize=[15,8])\n",
    "g2.plot(ax=ax, legend=False)"
   ]
  },
  {
   "cell_type": "code",
   "execution_count": null,
   "metadata": {
    "collapsed": true
   },
   "outputs": [],
   "source": []
  }
 ],
 "metadata": {
  "kernelspec": {
   "display_name": "Python 3",
   "language": "python",
   "name": "python3"
  },
  "language_info": {
   "codemirror_mode": {
    "name": "ipython",
    "version": 3
   },
   "file_extension": ".py",
   "mimetype": "text/x-python",
   "name": "python",
   "nbconvert_exporter": "python",
   "pygments_lexer": "ipython3",
   "version": "3.6.3"
  }
 },
 "nbformat": 4,
 "nbformat_minor": 2
}
