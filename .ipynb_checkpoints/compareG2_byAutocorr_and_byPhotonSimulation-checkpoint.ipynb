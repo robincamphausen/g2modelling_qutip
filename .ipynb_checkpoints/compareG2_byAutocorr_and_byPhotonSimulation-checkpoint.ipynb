{
 "cells": [
  {
   "cell_type": "code",
   "execution_count": 1,
   "metadata": {},
   "outputs": [
    {
     "data": {
      "text/html": [
       "<style>.container { width:80% !important; }</style>"
      ],
      "text/plain": [
       "<IPython.core.display.HTML object>"
      ]
     },
     "metadata": {},
     "output_type": "display_data"
    },
    {
     "name": "stdout",
     "output_type": "stream",
     "text": [
      "[ 4.   4.5  5.   5.5  6.   6.5  7.   7.5  8.   8.5  9.   9.5 10. ]\n",
      "13\n"
     ]
    }
   ],
   "source": [
    "from IPython.core.interactiveshell import InteractiveShell\n",
    "InteractiveShell.ast_node_interactivity = \"all\"\n",
    "\n",
    "from IPython.core.display import display, HTML\n",
    "display(HTML(\"<style>.container { width:80% !important; }</style>\"))\n",
    "\n",
    "%matplotlib inline\n",
    "%config InlineBackend.figure_format = 'retina'\n",
    "\n",
    "import matplotlib \n",
    "matplotlib.rcParams.update({'font.size': 16})\n",
    "\n",
    "import matplotlib.pyplot as plt\n",
    "import numpy as np\n",
    "from scipy.interpolate import interp2d\n",
    "\n",
    "numLifetimes = 13\n",
    "lifetimes = np.linspace(4,10,numLifetimes) #lifetimes in ns\n",
    "print(lifetimes)\n",
    "print(numLifetimes)"
   ]
  },
  {
   "cell_type": "markdown",
   "metadata": {},
   "source": [
    "# g2 by autocorrelation"
   ]
  },
  {
   "cell_type": "code",
   "execution_count": 2,
   "metadata": {},
   "outputs": [
    {
     "name": "stdout",
     "output_type": "stream",
     "text": [
      "numPulses = 33\n",
      "\n",
      "pulses = [-200.  -187.5 -175.  -162.5 -150.  -137.5 -125.  -112.5 -100.   -87.5\n",
      "  -75.   -62.5  -50.   -37.5  -25.   -12.5    0.    12.5   25.    37.5\n",
      "   50.    62.5   75.    87.5  100.   112.5  125.   137.5  150.   162.5\n",
      "  175.   187.5  200. ]\n",
      "numt = 400001\n",
      "shape of tlist = (400001,)\n",
      "\n",
      "numTau = 400001\n",
      "shape of taulist = (400001,)\n"
     ]
    }
   ],
   "source": [
    "# Define the positions in the autocorrelation where peaks should appear \n",
    "delayRange = 200\n",
    "numPulses = int(2*np.floor(delayRange/12.5)+1)\n",
    "print(f\"numPulses = {numPulses}\\n\")\n",
    "\n",
    "pulseInRange = np.floor(delayRange/12.5)*12.5\n",
    "pulses = np.linspace(-pulseInRange,pulseInRange,numPulses)\n",
    "print(f\"pulses = {pulses}\")\n",
    "\n",
    "numt = 2*delayRange*1000+1 \n",
    "print(f\"numt = {numt}\")\n",
    "\n",
    "# array of time (in ns)\n",
    "tlist = np.linspace(-delayRange, delayRange, numt) \n",
    "print(f\"shape of tlist = {tlist.shape}\\n\")\n",
    "\n",
    "# number of delay elements\n",
    "numTau = 2*delayRange*1000+1\n",
    "print(f\"numTau = {numTau}\")\n",
    "\n",
    "# array of delays (in ns)\n",
    "taulist = np.linspace(-delayRange, delayRange, numTau)\n",
    "print(f\"shape of taulist = {taulist.shape}\")\n",
    "\n",
    "#initialise pulsetrain\n",
    "pulsetrain_1phot = np.zeros((numt, numLifetimes))\n",
    "singlepulse = np.zeros((numt, numLifetimes))\n",
    "\n",
    "# fill pulsetrains and single pulses (one per lifetime)\n",
    "for i in range(numPulses):\n",
    "    for j in range(numLifetimes):\n",
    "        \n",
    "        if pulses[i] != 0:\n",
    "            # Calculate the exponential for this pulse\n",
    "            thisPulse = np.exp(-(tlist - pulses[i])/lifetimes[j])\n",
    "            thisPulse[thisPulse > 1] = 0\n",
    "            pulsetrain_1phot[:,j] = pulsetrain_1phot[:,j] + thisPulse\n",
    "            \n",
    "        else:\n",
    "            singlepulse[:,j] = np.exp(-(tlist)/lifetimes[j])\n",
    "            \n",
    "singlepulse[singlepulse>1] = 0"
   ]
  },
  {
   "cell_type": "code",
   "execution_count": null,
   "metadata": {},
   "outputs": [],
   "source": [
    "#calculate correlations and g2\n",
    "autoCorr_1phot = np.zeros((numt, numLifetimes))\n",
    "singleautocorr = np.zeros((numt, numLifetimes))\n",
    "g2_1phot = np.zeros((numt, numLifetimes))\n",
    "for i in range(numLifetimes):\n",
    "    autoCorr_1phot[:,i] = np.correlate(pulsetrain_1phot[:,i],singlepulse[:,i],\"same\")\n",
    "    singleautocorr[:,i] = np.correlate(singlepulse[:,i],singlepulse[:,i],\"same\")\n",
    "    \n",
    "    # Calculate g2(by normalizing to the maximum)\n",
    "    g2_1phot[:,i] = autoCorr_1phot[:,i]/np.max(autoCorr_1phot[:,i])"
   ]
  },
  {
   "cell_type": "code",
   "execution_count": null,
   "metadata": {
    "collapsed": true
   },
   "outputs": [],
   "source": [
    "#import simulated g2 values (from MATLAB)\n",
    "import scipy.io as sio\n"
   ]
  }
 ],
 "metadata": {
  "kernelspec": {
   "display_name": "Python 3",
   "language": "python",
   "name": "python3"
  },
  "language_info": {
   "codemirror_mode": {
    "name": "ipython",
    "version": 3
   },
   "file_extension": ".py",
   "mimetype": "text/x-python",
   "name": "python",
   "nbconvert_exporter": "python",
   "pygments_lexer": "ipython3",
   "version": "3.6.3"
  }
 },
 "nbformat": 4,
 "nbformat_minor": 2
}
