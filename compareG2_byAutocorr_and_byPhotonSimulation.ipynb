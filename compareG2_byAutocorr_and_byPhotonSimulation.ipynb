{
 "cells": [
  {
   "cell_type": "code",
   "execution_count": 1,
   "metadata": {},
   "outputs": [
    {
     "data": {
      "text/html": [
       "<style>.container { width:80% !important; }</style>"
      ],
      "text/plain": [
       "<IPython.core.display.HTML object>"
      ]
     },
     "metadata": {},
     "output_type": "display_data"
    },
    {
     "name": "stdout",
     "output_type": "stream",
     "text": [
      "[ 4.   4.5  5.   5.5  6.   6.5  7.   7.5  8.   8.5  9.   9.5 10. ]\n",
      "13\n"
     ]
    }
   ],
   "source": [
    "from IPython.core.interactiveshell import InteractiveShell\n",
    "InteractiveShell.ast_node_interactivity = \"all\"\n",
    "\n",
    "from IPython.core.display import display, HTML\n",
    "display(HTML(\"<style>.container { width:80% !important; }</style>\"))\n",
    "\n",
    "%matplotlib inline\n",
    "%config InlineBackend.figure_format = 'retina'\n",
    "\n",
    "import matplotlib \n",
    "matplotlib.rcParams.update({'font.size': 16})\n",
    "\n",
    "import matplotlib.pyplot as plt\n",
    "import numpy as np\n",
    "from scipy.interpolate import interp2d\n",
    "\n",
    "numLifetimes = 13\n",
    "lifetimes = np.linspace(4,10,numLifetimes) #lifetimes in ns\n",
    "print(lifetimes)\n",
    "print(numLifetimes)"
   ]
  },
  {
   "cell_type": "markdown",
   "metadata": {},
   "source": [
    "# g2 by autocorrelation"
   ]
  },
  {
   "cell_type": "code",
   "execution_count": null,
   "metadata": {},
   "outputs": [
    {
     "name": "stdout",
     "output_type": "stream",
     "text": [
      "numPulses = 33\n",
      "\n",
      "pulses = [-200.  -187.5 -175.  -162.5 -150.  -137.5 -125.  -112.5 -100.   -87.5\n",
      "  -75.   -62.5  -50.   -37.5  -25.   -12.5    0.    12.5   25.    37.5\n",
      "   50.    62.5   75.    87.5  100.   112.5  125.   137.5  150.   162.5\n",
      "  175.   187.5  200. ]\n",
      "numt = 400001\n",
      "shape of tlist = (400001,)\n",
      "\n",
      "numTau = 400001\n",
      "shape of taulist = (400001,)\n"
     ]
    }
   ],
   "source": [
    "# Define the positions in the autocorrelation where peaks should appear \n",
    "delayRange = 200\n",
    "numPulses = int(2*np.floor(delayRange/12.5)+1)\n",
    "print(f\"numPulses = {numPulses}\\n\")\n",
    "\n",
    "pulseInRange = np.floor(delayRange/12.5)*12.5\n",
    "pulses = np.linspace(-pulseInRange,pulseInRange,numPulses)\n",
    "print(f\"pulses = {pulses}\")\n",
    "\n",
    "numt = 2*delayRange*1000+1 \n",
    "print(f\"numt = {numt}\")\n",
    "\n",
    "# array of time (in ns)\n",
    "tlist = np.linspace(-delayRange, delayRange, numt) \n",
    "print(f\"shape of tlist = {tlist.shape}\\n\")\n",
    "\n",
    "# number of delay elements\n",
    "numTau = 2*delayRange*1000+1\n",
    "print(f\"numTau = {numTau}\")\n",
    "\n",
    "# array of delays (in ns)\n",
    "taulist = np.linspace(-delayRange, delayRange, numTau)\n",
    "print(f\"shape of taulist = {taulist.shape}\")\n",
    "\n",
    "#initialise pulsetrain\n",
    "pulsetrain_1phot = np.zeros((numt, numLifetimes))\n",
    "singlepulse = np.zeros((numt, numLifetimes))\n",
    "\n",
    "# fill pulsetrains and single pulses (one per lifetime)\n",
    "for i in range(numPulses):\n",
    "    for j in range(numLifetimes):\n",
    "        \n",
    "        if pulses[i] != 0:\n",
    "            # Calculate the exponential for this pulse\n",
    "            thisPulse = np.exp(-(tlist - pulses[i])/lifetimes[j])\n",
    "            thisPulse[thisPulse > 1] = 0\n",
    "            pulsetrain_1phot[:,j] = pulsetrain_1phot[:,j] + thisPulse\n",
    "            \n",
    "        else:\n",
    "            singlepulse[:,j] = np.exp(-(tlist)/lifetimes[j])\n",
    "            \n",
    "singlepulse[singlepulse>1] = 0"
   ]
  },
  {
   "cell_type": "code",
   "execution_count": null,
   "metadata": {
    "collapsed": true
   },
   "outputs": [],
   "source": [
    "#calculate correlations and g2\n",
    "autoCorr_1phot = np.zeros((numt, numLifetimes))\n",
    "singleautocorr = np.zeros((numt, numLifetimes))\n",
    "g2_1phot = np.zeros((numt, numLifetimes))\n",
    "for i in range(numLifetimes):\n",
    "    autoCorr_1phot[:,i] = np.correlate(pulsetrain_1phot[:,i],singlepulse[:,i],\"same\")\n",
    "    singleautocorr[:,i] = np.correlate(singlepulse[:,i],singlepulse[:,i],\"same\")\n",
    "    \n",
    "    # Calculate g2(by normalizing to the maximum)\n",
    "    g2_1phot[:,i] = autoCorr_1phot[:,i]/np.max(autoCorr_1phot[:,i])"
   ]
  },
  {
   "cell_type": "code",
   "execution_count": null,
   "metadata": {},
   "outputs": [],
   "source": [
    "#save as CSV files\n",
    "for i in range(numLifetimes):\n",
    "    filename = './autocorrG2/g2_1000_1photon_' + str(lifetimes[i]) + 'ns.csv'\n",
    "    np.savetxt(filename, g2_1phot[:,i], delimiter=\",\")\n",
    "    filename2 = './autocorrG2/singlepulseAutocorr_1000_1photon_' + str(lifetimes[i]) + 'ns.csv'\n",
    "    np.savetxt(filename2, singleautocorr[:,i]/np.max(singleautocorr[:,i]), delimiter=\",\")\n",
    "    np.savetxt('./autocorrG2/taulistJupyter.csv',taulist, delimiter=\",\")"
   ]
  },
  {
   "cell_type": "markdown",
   "metadata": {},
   "source": [
    "# g2 by probabilistic modelling"
   ]
  },
  {
   "cell_type": "code",
   "execution_count": null,
   "metadata": {},
   "outputs": [],
   "source": [
    "import scipy.io as sio\n",
    "\n",
    "#load simulated g2 values (from MATLAB)\n",
    "for i in range(numLifetimes):\n",
    "    if  i%2==0:\n",
    "        filename = './stochModelG2/singlePhoton_tauDecay1_' + str(int(lifetimes[i])) + 'ns.mat'\n",
    "    else:\n",
    "        filename = './stochModelG2/singlePhoton_tauDecay1_' + str(lifetimes[i]) + 'ns.mat'\n",
    "    print(f\"{filename}\")\n",
    "    if i==0:\n",
    "        mat_contents = sio.loadmat(filename)\n",
    "        #mat_timebinsLoad = mat_contents['bins']\n",
    "        #mat_timebins = np.zeros(mat_timebinsLoad.shape[1]-1)\n",
    "        #print(f\"{mat_timebins.shape}\")\n",
    "        #for j in range(mat_timebins.shape[0]):\n",
    "        #    mat_timebins[j] = mat_timebinsLoad[j] +0.25\n",
    "        mat_timebins = np.linspace(-99.75,99.75,400)\n",
    "        print(f\"{mat_timebins.shape}\")\n",
    "        g2_matlab = np.zeros((mat_timebins.shape[0],numLifetimes ))\n",
    "        g2_matlab[:,i] = mat_contents['y_hist']\n",
    "        g2_matlab[:,i] = g2_matlab[:,i]/np.max(g2_matlab[:,i])\n",
    "    else:\n",
    "        mat_contents = sio.loadmat(filename)\n",
    "        g2_matlab[:,i] = mat_contents['y_hist']\n",
    "        g2_matlab[:,i] = g2_matlab[:,i]/np.max(g2_matlab[:,i])  "
   ]
  },
  {
   "cell_type": "markdown",
   "metadata": {},
   "source": [
    "# plot comparison"
   ]
  },
  {
   "cell_type": "code",
   "execution_count": null,
   "metadata": {},
   "outputs": [],
   "source": [
    "fig0 = plt.figure(figsize=(8,5*numLifetimes))\n",
    "\n",
    "for i in range(numLifetimes):\n",
    "    ax = fig0.add_subplot(numLifetimes,1,i+1)\n",
    "    _ = ax.plot(taulist, g2_1phot[:,i])\n",
    "    _ = ax.plot(mat_timebins, g2_matlab[:,i])\n",
    "    _ = ax.set_xlim(-100,100)\n",
    "    title = 'autocorr g2 vs photon model g2, tau = ' + str(lifetimes[i]) +'ns'\n",
    "    _ = ax.set_title(title)\n"
   ]
  },
  {
   "cell_type": "code",
   "execution_count": null,
   "metadata": {
    "collapsed": true
   },
   "outputs": [],
   "source": []
  }
 ],
 "metadata": {
  "kernelspec": {
   "display_name": "Python 3",
   "language": "python",
   "name": "python3"
  },
  "language_info": {
   "codemirror_mode": {
    "name": "ipython",
    "version": 3
   },
   "file_extension": ".py",
   "mimetype": "text/x-python",
   "name": "python",
   "nbconvert_exporter": "python",
   "pygments_lexer": "ipython3",
   "version": "3.6.3"
  }
 },
 "nbformat": 4,
 "nbformat_minor": 2
}
